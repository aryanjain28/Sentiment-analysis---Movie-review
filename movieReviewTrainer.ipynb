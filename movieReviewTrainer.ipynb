{
  "nbformat": 4,
  "nbformat_minor": 0,
  "metadata": {
    "colab": {
      "name": "Untitled0.ipynb",
      "provenance": [],
      "collapsed_sections": []
    },
    "kernelspec": {
      "name": "python3",
      "display_name": "Python 3"
    },
    "accelerator": "GPU"
  },
  "cells": [
    {
      "cell_type": "code",
      "metadata": {
        "id": "I2lmjCxwhh-r",
        "colab_type": "code",
        "outputId": "274c108d-5c17-48ab-d038-a05d80aa69ff",
        "colab": {
          "base_uri": "https://localhost:8080/",
          "height": 36
        }
      },
      "source": [
        "from tensorflow import keras\n",
        "from tensorflow.keras.layers import *\n",
        "from tensorflow.keras.datasets import imdb\n",
        "from tensorflow.keras.preprocessing.sequence import pad_sequences\n",
        "from keras.layers import LSTM\n",
        "from keras.layers import Dropout\n",
        "from keras.layers import Dense\n",
        "from keras import Sequential\n",
        "from keras.layers import Embedding"
      ],
      "execution_count": 0,
      "outputs": [
        {
          "output_type": "stream",
          "text": [
            "Using TensorFlow backend.\n"
          ],
          "name": "stderr"
        }
      ]
    },
    {
      "cell_type": "code",
      "metadata": {
        "id": "77X6dpF6h5wJ",
        "colab_type": "code",
        "outputId": "cfb69526-2ccf-4e13-c068-aa1a05ffa2d9",
        "colab": {
          "base_uri": "https://localhost:8080/",
          "height": 54
        }
      },
      "source": [
        "( xTrain , yTrain ) , ( xTest , yTest ) = imdb.load_data( num_words=5000 )  "
      ],
      "execution_count": 0,
      "outputs": [
        {
          "output_type": "stream",
          "text": [
            "Downloading data from https://storage.googleapis.com/tensorflow/tf-keras-datasets/imdb.npz\n",
            "17465344/17464789 [==============================] - 0s 0us/step\n"
          ],
          "name": "stdout"
        }
      ]
    },
    {
      "cell_type": "code",
      "metadata": {
        "id": "x3PxRGcfh8jF",
        "colab_type": "code",
        "colab": {}
      },
      "source": [
        "# yTrain = keras.utils.to_categorical( yTrain , num_classes=2 ) \n",
        "# yTest = keras.utils.to_categorical( yTest , num_classes=2 ) "
      ],
      "execution_count": 0,
      "outputs": []
    },
    {
      "cell_type": "code",
      "metadata": {
        "id": "J30p4emgiLNH",
        "colab_type": "code",
        "colab": {}
      },
      "source": [
        "xTrain = pad_sequences( xTrain , maxlen=200 , padding='pre' ) \n",
        "xTest = pad_sequences( xTest , maxlen=200 , padding='pre' )"
      ],
      "execution_count": 0,
      "outputs": []
    },
    {
      "cell_type": "code",
      "metadata": {
        "id": "9qtHxR6LiPDD",
        "colab_type": "code",
        "colab": {}
      },
      "source": [
        "batch_size = 64\n",
        "epochs = 5\n",
        "\n",
        "xValidTrain, yValidTrain = xTrain[:100], yTrain[:100]\n",
        "xTrain, yTrain = xTrain[100:], yTrain[100:]\n",
        "\n",
        "model = Sequential()\n",
        "model.add(Embedding(500, 10, input_length=200))\n",
        "model.add(LSTM(32))\n",
        "model.add(Dropout(0.3))\n",
        "model.add(Dense(32, activation='relu'))\n",
        "model.add(Dropout(0.3))\n",
        "model.add(Dense(1, activation='sigmoid'))\n",
        "\n"
      ],
      "execution_count": 0,
      "outputs": []
    },
    {
      "cell_type": "code",
      "metadata": {
        "id": "mlRf078cmShS",
        "colab_type": "code",
        "colab": {}
      },
      "source": [
        "model.compile(\n",
        "    optimizer='adam' ,\n",
        "    loss='binary_crossentropy' ,\n",
        "    metrics=[ 'accuracy' ]\n",
        ")"
      ],
      "execution_count": 0,
      "outputs": []
    },
    {
      "cell_type": "code",
      "metadata": {
        "id": "rDx2fxCLiiJN",
        "colab_type": "code",
        "outputId": "de5c15b4-5604-4a2b-be3c-fbad3a1b0234",
        "colab": {
          "base_uri": "https://localhost:8080/",
          "height": 280
        }
      },
      "source": [
        "history = model.fit( xTrain , yTrain , validation_data=(xValidTrain, yValidTrain), batch_size=batch_size , epochs=epochs, verbose=1 ) "
      ],
      "execution_count": 0,
      "outputs": [
        {
          "output_type": "stream",
          "text": [
            "/usr/local/lib/python3.6/dist-packages/tensorflow/python/framework/indexed_slices.py:434: UserWarning: Converting sparse IndexedSlices to a dense Tensor of unknown shape. This may consume a large amount of memory.\n",
            "  \"Converting sparse IndexedSlices to a dense Tensor of unknown shape. \"\n"
          ],
          "name": "stderr"
        },
        {
          "output_type": "stream",
          "text": [
            "Train on 24900 samples, validate on 100 samples\n",
            "Epoch 1/5\n",
            "24900/24900 [==============================] - 129s 5ms/step - loss: 0.5451 - accuracy: 0.7096 - val_loss: 0.3608 - val_accuracy: 0.8800\n",
            "Epoch 2/5\n",
            "24900/24900 [==============================] - 126s 5ms/step - loss: 0.4294 - accuracy: 0.8093 - val_loss: 0.3430 - val_accuracy: 0.8400\n",
            "Epoch 3/5\n",
            "24900/24900 [==============================] - 127s 5ms/step - loss: 0.3991 - accuracy: 0.8268 - val_loss: 0.3638 - val_accuracy: 0.8400\n",
            "Epoch 4/5\n",
            "24900/24900 [==============================] - 126s 5ms/step - loss: 0.3903 - accuracy: 0.8307 - val_loss: 0.3485 - val_accuracy: 0.8600\n",
            "Epoch 5/5\n",
            "24900/24900 [==============================] - 125s 5ms/step - loss: 0.3895 - accuracy: 0.8276 - val_loss: 0.3266 - val_accuracy: 0.8800\n"
          ],
          "name": "stdout"
        }
      ]
    },
    {
      "cell_type": "code",
      "metadata": {
        "id": "ed_R1acejQIB",
        "colab_type": "code",
        "outputId": "bf76e779-2dba-4b99-9767-7cf76c2bb1e9",
        "colab": {
          "base_uri": "https://localhost:8080/",
          "height": 54
        }
      },
      "source": [
        "_,acc = model.evaluate( xTest , yTest )\n",
        "print(acc * 100)"
      ],
      "execution_count": 0,
      "outputs": [
        {
          "output_type": "stream",
          "text": [
            "25000/25000 [==============================] - 22s 878us/step\n",
            "82.71600008010864\n"
          ],
          "name": "stdout"
        }
      ]
    },
    {
      "cell_type": "code",
      "metadata": {
        "id": "2B7CGhWghXq6",
        "colab_type": "code",
        "outputId": "0f44d7b5-2703-4711-d8f4-ea82392c9829",
        "colab": {
          "base_uri": "https://localhost:8080/",
          "height": 383
        }
      },
      "source": [
        "import matplotlib.pyplot as plt\n",
        "from matplotlib import style\n",
        "\n",
        "print(style.available)\n",
        "\n",
        "style.use('dark_background')\n",
        "\n",
        "y = [x for x in range(epochs)]\n",
        "\n",
        "plt.subplot(1,2,1)\n",
        "plt.plot(y, history.history['accuracy'], label='accuracy')\n",
        "plt.plot(y, history.history['val_accuracy'], label='val_accuracy')\n",
        "plt.ylabel('values')\n",
        "plt.xlabel('epochs')\n",
        "plt.legend(loc=0)\n",
        "plt.title('Accuracy : 82.716% \\n Epochs : 5')\n",
        "\n",
        "\n",
        "plt.subplot(1,2,2)\n",
        "plt.plot(y, history.history['loss'], label='loss')\n",
        "plt.plot(y, history.history['val_loss'], label='val_loss')\n",
        "plt.ylabel('values')\n",
        "plt.xlabel('epochs')\n",
        "plt.legend(loc=0)\n",
        "plt.title('Accuracy : 82.716% \\n Epochs : 5')\n",
        "\n",
        "\n",
        "\n",
        "plt.show()"
      ],
      "execution_count": 0,
      "outputs": [
        {
          "output_type": "stream",
          "text": [
            "['Solarize_Light2', '_classic_test_patch', 'bmh', 'classic', 'dark_background', 'fast', 'fivethirtyeight', 'ggplot', 'grayscale', 'seaborn', 'seaborn-bright', 'seaborn-colorblind', 'seaborn-dark', 'seaborn-dark-palette', 'seaborn-darkgrid', 'seaborn-deep', 'seaborn-muted', 'seaborn-notebook', 'seaborn-paper', 'seaborn-pastel', 'seaborn-poster', 'seaborn-talk', 'seaborn-ticks', 'seaborn-white', 'seaborn-whitegrid', 'tableau-colorblind10']\n"
          ],
          "name": "stdout"
        },
        {
          "output_type": "display_data",
          "data": {
            "image/png": "[encoded data removed]",
            "text/plain": [
              "<Figure size 432x288 with 2 Axes>"
            ]
          },
          "metadata": {
            "tags": []
          }
        }
      ]
    },
    {
      "cell_type": "code",
      "metadata": {
        "id": "FrVhtvWoplfo",
        "colab_type": "code",
        "colab": {}
      },
      "source": [
        "model.save('./myModel-5Epochs.h5')"
      ],
      "execution_count": 0,
      "outputs": []
    },
    {
      "cell_type": "code",
      "metadata": {
        "id": "WK7yxdgn2Mw_",
        "colab_type": "code",
        "outputId": "b17c8241-e641-4a4b-e4a6-71688fe22e26",
        "colab": {
          "base_uri": "https://localhost:8080/",
          "height": 149
        }
      },
      "source": [
        "from keras.models import load_model\n",
        "\n",
        "model = load_model('./myModel-2-5Epochs.h5')\n",
        "_,acc = model.evaluate(xTest, yTest)\n",
        "print(acc*100)\n",
        "\n",
        "model = load_model('./myModel-2-7Epochs.h5')\n",
        "_,acc = model.evaluate(xTest, yTest)\n",
        "print(acc*100)"
      ],
      "execution_count": 0,
      "outputs": [
        {
          "output_type": "stream",
          "text": [
            "/usr/local/lib/python3.6/dist-packages/tensorflow/python/framework/indexed_slices.py:434: UserWarning: Converting sparse IndexedSlices to a dense Tensor of unknown shape. This may consume a large amount of memory.\n",
            "  \"Converting sparse IndexedSlices to a dense Tensor of unknown shape. \"\n"
          ],
          "name": "stderr"
        },
        {
          "output_type": "stream",
          "text": [
            "25000/25000 [==============================] - 28s 1ms/step\n",
            "83.61600041389465\n",
            "25000/25000 [==============================] - 28s 1ms/step\n",
            "83.51200222969055\n"
          ],
          "name": "stdout"
        }
      ]
    },
    {
      "cell_type": "code",
      "metadata": {
        "id": "QYnhzGAyZuWU",
        "colab_type": "code",
        "colab": {}
      },
      "source": [
        ""
      ],
      "execution_count": 0,
      "outputs": []
    }
  ]
}