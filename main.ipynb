{
 "cells": [
  {
   "cell_type": "code",
   "execution_count": 16,
   "metadata": {},
   "outputs": [],
   "source": [
    "%matplotlib qt"
   ]
  },
  {
   "cell_type": "code",
   "execution_count": 22,
   "metadata": {},
   "outputs": [
    {
     "name": "stderr",
     "output_type": "stream",
     "text": [
      "C:\\Users\\aryan\\anaconda3\\envs\\tf-gpu\\lib\\site-packages\\tensorflow_core\\python\\framework\\indexed_slices.py:433: UserWarning: Converting sparse IndexedSlices to a dense Tensor of unknown shape. This may consume a large amount of memory.\n",
      "  \"Converting sparse IndexedSlices to a dense Tensor of unknown shape. \"\n"
     ]
    },
    {
     "name": "stdout",
     "output_type": "stream",
     "text": [
      "Ignored : “a\n",
      "Ignored : “2001”\n",
      "Ignored : mark…\n",
      "Ignored : socalled\n",
      "Ignored : [including]\n",
      "Ignored : prolog…\n",
      "Ignored : ‘other\n",
      "Ignored : life’\n",
      "Ignored : scripting”\n",
      "0.5855291\n",
      "1\n"
     ]
    },
    {
     "name": "stderr",
     "output_type": "stream",
     "text": [
      "C:\\Users\\aryan\\anaconda3\\envs\\tf-gpu\\lib\\site-packages\\tensorflow_core\\python\\framework\\indexed_slices.py:433: UserWarning: Converting sparse IndexedSlices to a dense Tensor of unknown shape. This may consume a large amount of memory.\n",
      "  \"Converting sparse IndexedSlices to a dense Tensor of unknown shape. \"\n"
     ]
    },
    {
     "name": "stdout",
     "output_type": "stream",
     "text": [
      "Ignored : mark…\n",
      "Ignored : socalled\n",
      "Ignored : prolog…\n",
      "0.70176363\n",
      "1\n"
     ]
    },
    {
     "name": "stderr",
     "output_type": "stream",
     "text": [
      "C:\\Users\\aryan\\anaconda3\\envs\\tf-gpu\\lib\\site-packages\\tensorflow_core\\python\\framework\\indexed_slices.py:433: UserWarning: Converting sparse IndexedSlices to a dense Tensor of unknown shape. This may consume a large amount of memory.\n",
      "  \"Converting sparse IndexedSlices to a dense Tensor of unknown shape. \"\n"
     ]
    },
    {
     "name": "stdout",
     "output_type": "stream",
     "text": [
      "Ignored : socalled\n",
      "Ignored : prolog…\n",
      "0.7003031\n",
      "1\n"
     ]
    },
    {
     "name": "stderr",
     "output_type": "stream",
     "text": [
      "C:\\Users\\aryan\\anaconda3\\envs\\tf-gpu\\lib\\site-packages\\tensorflow_core\\python\\framework\\indexed_slices.py:433: UserWarning: Converting sparse IndexedSlices to a dense Tensor of unknown shape. This may consume a large amount of memory.\n",
      "  \"Converting sparse IndexedSlices to a dense Tensor of unknown shape. \"\n"
     ]
    },
    {
     "name": "stdout",
     "output_type": "stream",
     "text": [
      "Ignored : socalled\n",
      "Ignored : prolog\n",
      "0.7003031\n",
      "1\n"
     ]
    },
    {
     "name": "stderr",
     "output_type": "stream",
     "text": [
      "C:\\Users\\aryan\\anaconda3\\envs\\tf-gpu\\lib\\site-packages\\tensorflow_core\\python\\framework\\indexed_slices.py:433: UserWarning: Converting sparse IndexedSlices to a dense Tensor of unknown shape. This may consume a large amount of memory.\n",
      "  \"Converting sparse IndexedSlices to a dense Tensor of unknown shape. \"\n"
     ]
    },
    {
     "name": "stdout",
     "output_type": "stream",
     "text": [
      "Ignored : socalled\n",
      "Ignored : prolog\n",
      "0.7003031\n",
      "1\n"
     ]
    }
   ],
   "source": [
    "from tkinter import *\n",
    "from tkinter import messagebox\n",
    "import keras\n",
    "import numpy as np\n",
    "import matplotlib.pyplot as plt\n",
    "from matplotlib import style\n",
    "from keras.datasets import imdb\n",
    "\n",
    "def getReview():\n",
    "    model = keras.models.load_model('./myModel-5Epochs.h5')\n",
    "    inputText = text.get(\"1.0\",'end-1c')\n",
    "    inputText = str(inputText).strip()\n",
    "    if len(inputText) < 1:\n",
    "        messagebox.askokcancel('No text', 'Please enter review!')\n",
    "        return\n",
    "    \n",
    "    maxLen = 200\n",
    "    w2i = imdb.get_word_index()\n",
    "    \n",
    "    listStr = inputText.split(' ')\n",
    "    L = []\n",
    "    for s in listStr:\n",
    "        s = s.lower()\n",
    "        s = s.replace('!', '').replace('/', ' ').replace(' ', '').replace('.', '').replace(',', '').replace(':', '').replace(';', '').replace('\"', '').replace(\"'\", '').replace(\"-\", '').replace(\"?\", '').replace(\".\", '').replace(\",\", '').replace(\"(\", '').replace(\")\", '')                                                \n",
    "        try:\n",
    "            L.append(w2i[s])\n",
    "        except:\n",
    "            print(f'Ignored : {s}')\n",
    "        \n",
    "    if len(L) > maxLen:\n",
    "        L = L[:maxLen]\n",
    "    elif len(L) < maxLen:\n",
    "        for _ in range(maxLen-len(L)):\n",
    "            L.insert(0,0)\n",
    "        \n",
    "    L = np.array(L)\n",
    "    answer = model.predict([[L]])\n",
    "    a = (answer[0][0])\n",
    "    print(a)\n",
    "    print(int(round(a)))\n",
    "    x = 'GOOD' if (int(round(a)) == 1) else 'BAD'\n",
    "    messagebox.askokcancel('Results', f'{a}\\n\\n{x} REVIEW')\n",
    "    \n",
    "\n",
    "root = Tk() \n",
    "root.title(\"Sentiment Analysis\") \n",
    "root.resizable(width = True, height = True) \n",
    "root.minsize(1000, 800)\n",
    "\n",
    "text = Text(root)\n",
    "text.place(relx=0.5, rely=0.1, anchor=N)\n",
    "\n",
    "btn = Button(root, text ='Get review', font=('Ariel', 15), command = getReview) \n",
    "btn.place(relx=0.5, rely=0.7, anchor=S)\n",
    "\n",
    "root.mainloop() "
   ]
  },
  {
   "cell_type": "code",
   "execution_count": 6,
   "metadata": {},
   "outputs": [
    {
     "name": "stdout",
     "output_type": "stream",
     "text": [
      "[0, 0, 0, 0, 0, 0, 0, 1, 2, 3]\n",
      "10\n"
     ]
    }
   ],
   "source": [
    "x = [1,2,3]\n",
    "y = [5,6,7,11,2,3,45,5,6,7]\n",
    "\n",
    "for _ in range(10-len(x)):\n",
    "    x.insert(0,0)\n",
    "\n",
    "print(x)\n",
    "print(len(x))"
   ]
  }
 ],
 "metadata": {
  "kernelspec": {
   "display_name": "TensorFlow-GPU-2.1",
   "language": "python",
   "name": "tf-gpu"
  },
  "language_info": {
   "codemirror_mode": {
    "name": "ipython",
    "version": 3
   },
   "file_extension": ".py",
   "mimetype": "text/x-python",
   "name": "python",
   "nbconvert_exporter": "python",
   "pygments_lexer": "ipython3",
   "version": "3.7.7"
  }
 },
 "nbformat": 4,
 "nbformat_minor": 4
}
