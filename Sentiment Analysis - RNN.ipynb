{
 "cells": [
  {
   "cell_type": "code",
   "execution_count": 227,
   "metadata": {},
   "outputs": [
    {
     "name": "stdout",
     "output_type": "stream",
     "text": [
      "TensorFlow Version: 2.1.0\n",
      "Default GPU Device: /device:GPU:0\n"
     ]
    }
   ],
   "source": [
    "from distutils.version import LooseVersion\n",
    "import warnings\n",
    "import tensorflow as tf\n",
    "\n",
    "# Check TensorFlow Version\n",
    "assert LooseVersion(tf.__version__) >= LooseVersion('1.0'), 'Please use TensorFlow version 1.0 or newer.  You are using {}'.format(tf.__version__)\n",
    "print('TensorFlow Version: {}'.format(tf.__version__))\n",
    "\n",
    "# Check for a GPU\n",
    "if not tf.test.gpu_device_name():\n",
    "    warnings.warn('No GPU found. Please ensure you have installed TensorFlow correctly')\n",
    "else:\n",
    "    print('Default GPU Device: {}'.format(tf.test.gpu_device_name()))"
   ]
  },
  {
   "cell_type": "code",
   "execution_count": 228,
   "metadata": {},
   "outputs": [],
   "source": [
    "from keras.datasets import imdb"
   ]
  },
  {
   "cell_type": "code",
   "execution_count": 229,
   "metadata": {},
   "outputs": [],
   "source": [
    "vocabSize = 5000\n",
    "(xTrain, yTrain), (xTest, yTest) = imdb.load_data(num_words=vocabSize)"
   ]
  },
  {
   "cell_type": "code",
   "execution_count": 230,
   "metadata": {},
   "outputs": [
    {
     "name": "stdout",
     "output_type": "stream",
     "text": [
      "24637\n",
      "REVIEW :  \n",
      "\n",
      "the wonder can other only sounds are minute and lot later and i i of father lot br and and and full br of and awe we've this of and and to marie and stunning br make and take uncomfortable lot by with is and pointless br unrealistic mainly br and lot seen it is and extent br and are is wedding cutting i i movie this lot by going and and and is and argue and film of 'the br of without to of rendition br of nice and streep to puts and movie of amount br having scenes prom while appeal real see at plays film of reviews definitely and and simple really usa it are of and year years film as younger are balance without and it innocent film dennis and this and of without move this be and mess than name weird motivations not years all else find any lot br for and successfully film of happy br and are of goes and she just so and i i not out movie lot by way want remain and roger kid br and to comedy germany lot seen provided and movie and lighting this give appeal more it is and wouldn't br fi current film of films series such and episodes features of awful ideas br of without best continued want in might movie what bad he more to as it starred most jim of night it limited is and br and another series other such of boring he and largely film of before and however just and and i i asian and popular end thus wait film charlie to it this enough and and of by writer br and it no and nicely be imdb works but of how my to and look and of and br as scenes who names she in that film of spoiler and christopher br of and of come it for and best and want first finds packed to this for law as house there up this appreciate film of i've awe been of and support of conflicts chicks it of time and br is and bill scenes such them off emotionally to inside also her and rush show that is enough really there and and of sorts br while many most of and tag and br of terry way any and change of and movie of very behind which what from people car and to and were right and but emotionally were and story point at is and lighting his is others by i i not but want country calling showing when find as certainly talk it make version actor br and to yourself and no have can while key charles naked appeal br and that find have wondered don't get all with gun this until girl been and made film along wrong and from real one maybe made in another are is again br though massive to and and appeal for people his one in at sit to people his one in learn want marie know if of behave and and for and want camera \n",
      "\n",
      "ANSWER :  \n",
      "\n",
      "Positive\n"
     ]
    }
   ],
   "source": [
    "import random\n",
    "\n",
    "x = random.randrange(0, 25000)\n",
    "print(x)\n",
    "\n",
    "w2i = imdb.get_word_index()\n",
    "i2w = {i:w for w,i in w2i.items()}\n",
    "\n",
    "print('Review :  \\n'.upper())\n",
    "_ = [print(i2w[i], end=' ') for i in xTrain[x]]\n",
    "\n",
    "print('\\n\\nAnswer :  \\n'.upper())\n",
    "ans = 'Positive' if yTrain[x] == 1 else 'Negative'\n",
    "print(ans)"
   ]
  },
  {
   "cell_type": "code",
   "execution_count": 232,
   "metadata": {},
   "outputs": [],
   "source": [
    "from keras.preprocessing import sequence\n",
    "from keras.utils import to_categorical\n",
    "\n",
    "yTrain = to_categorical( yTrain , num_classes=2 ) \n",
    "yTest = to_categorical( yTest , num_classes=2 )\n",
    "\n",
    "maxLen = 120\n",
    "xTrain = sequence.pad_sequences(xTrain, maxlen=maxLen)\n",
    "xTest = sequence.pad_sequences(xTest, maxlen=maxLen)"
   ]
  },
  {
   "cell_type": "code",
   "execution_count": 233,
   "metadata": {},
   "outputs": [],
   "source": [
    "from keras.layers import Embedding\n",
    "from keras.layers import LSTM\n",
    "from keras.layers import SimpleRNN\n",
    "from keras.layers import Dense\n",
    "from keras.layers import Dropout\n",
    "from keras import Sequential\n",
    "\n",
    "model = Sequential()\n",
    "model.add(Embedding(5000, 10, input_length=120))\n",
    "model.add(LSTM(32))\n",
    "model.add(Dropout(0.3))\n",
    "model.add(Dense( 32 , activation='relu' ))\n",
    "model.add(Dropout(0.3))\n",
    "model.add(Dense(2, activation='softmax'))"
   ]
  },
  {
   "cell_type": "code",
   "execution_count": 234,
   "metadata": {},
   "outputs": [
    {
     "name": "stdout",
     "output_type": "stream",
     "text": [
      "Model: \"sequential_10\"\n",
      "_________________________________________________________________\n",
      "Layer (type)                 Output Shape              Param #   \n",
      "=================================================================\n",
      "embedding_9 (Embedding)      (None, 120, 10)           50000     \n",
      "_________________________________________________________________\n",
      "lstm_7 (LSTM)                (None, 32)                5504      \n",
      "_________________________________________________________________\n",
      "dropout_3 (Dropout)          (None, 32)                0         \n",
      "_________________________________________________________________\n",
      "dense_10 (Dense)             (None, 32)                1056      \n",
      "_________________________________________________________________\n",
      "dropout_4 (Dropout)          (None, 32)                0         \n",
      "_________________________________________________________________\n",
      "dense_11 (Dense)             (None, 2)                 66        \n",
      "=================================================================\n",
      "Total params: 56,626\n",
      "Trainable params: 56,626\n",
      "Non-trainable params: 0\n",
      "_________________________________________________________________\n"
     ]
    }
   ],
   "source": [
    "model.summary()"
   ]
  },
  {
   "cell_type": "code",
   "execution_count": 235,
   "metadata": {},
   "outputs": [],
   "source": [
    "model.compile(optimizer='adam', loss='binary_crossentropy', metrics=['accuracy'])"
   ]
  },
  {
   "cell_type": "code",
   "execution_count": 236,
   "metadata": {},
   "outputs": [
    {
     "name": "stdout",
     "output_type": "stream",
     "text": [
      "25000\n",
      "25000\n",
      "1000\n",
      "1000\n",
      "24000\n",
      "24000\n"
     ]
    }
   ],
   "source": [
    "batch_size = 1000\n",
    "num_epochs = 10\n",
    "\n",
    "print(len(xTrain))\n",
    "print(len(yTrain))\n",
    "\n",
    "xValidTrain, yValidTrain = xTrain[:batch_size], yTrain[:batch_size]\n",
    "xTrain, yTrain = xTrain[batch_size:], yTrain[batch_size:]\n",
    "\n",
    "print(len(xValidTrain))\n",
    "print(len(yValidTrain))\n",
    "\n",
    "print(len(xTrain))\n",
    "print(len(yTrain))"
   ]
  },
  {
   "cell_type": "code",
   "execution_count": 237,
   "metadata": {},
   "outputs": [
    {
     "name": "stderr",
     "output_type": "stream",
     "text": [
      "C:\\Users\\aryan\\anaconda3\\envs\\tf-gpu\\lib\\site-packages\\tensorflow_core\\python\\framework\\indexed_slices.py:433: UserWarning: Converting sparse IndexedSlices to a dense Tensor of unknown shape. This may consume a large amount of memory.\n",
      "  \"Converting sparse IndexedSlices to a dense Tensor of unknown shape. \"\n"
     ]
    },
    {
     "name": "stdout",
     "output_type": "stream",
     "text": [
      "Train on 24000 samples, validate on 1000 samples\n",
      "Epoch 1/10\n",
      "24000/24000 [==============================] - 4s 156us/step - loss: 0.6920 - accuracy: 0.5293 - val_loss: 0.6884 - val_accuracy: 0.6250\n",
      "Epoch 2/10\n",
      "24000/24000 [==============================] - 3s 136us/step - loss: 0.6502 - accuracy: 0.6842 - val_loss: 0.5145 - val_accuracy: 0.7630\n",
      "Epoch 3/10\n",
      "24000/24000 [==============================] - 3s 137us/step - loss: 0.4502 - accuracy: 0.8109 - val_loss: 0.3885 - val_accuracy: 0.8210\n",
      "Epoch 4/10\n",
      "24000/24000 [==============================] - 3s 135us/step - loss: 0.3299 - accuracy: 0.8680 - val_loss: 0.3416 - val_accuracy: 0.8380\n",
      "Epoch 5/10\n",
      "24000/24000 [==============================] - 3s 137us/step - loss: 0.2816 - accuracy: 0.8938 - val_loss: 0.3438 - val_accuracy: 0.8390\n",
      "Epoch 6/10\n",
      "24000/24000 [==============================] - 3s 136us/step - loss: 0.2527 - accuracy: 0.9062 - val_loss: 0.3387 - val_accuracy: 0.8470\n",
      "Epoch 7/10\n",
      "24000/24000 [==============================] - 3s 136us/step - loss: 0.2357 - accuracy: 0.9154 - val_loss: 0.3338 - val_accuracy: 0.8500\n",
      "Epoch 8/10\n",
      "24000/24000 [==============================] - 3s 136us/step - loss: 0.2190 - accuracy: 0.9251 - val_loss: 0.3620 - val_accuracy: 0.8370\n",
      "Epoch 9/10\n",
      "24000/24000 [==============================] - 3s 140us/step - loss: 0.2094 - accuracy: 0.9285 - val_loss: 0.3636 - val_accuracy: 0.8430\n",
      "Epoch 10/10\n",
      "24000/24000 [==============================] - 3s 142us/step - loss: 0.2012 - accuracy: 0.9326 - val_loss: 0.3814 - val_accuracy: 0.8450\n"
     ]
    }
   ],
   "source": [
    "history = model.fit(xTrain, yTrain, validation_data=(xValidTrain, yValidTrain), batch_size=batch_size, epochs=num_epochs)"
   ]
  },
  {
   "cell_type": "code",
   "execution_count": 238,
   "metadata": {},
   "outputs": [
    {
     "name": "stdout",
     "output_type": "stream",
     "text": [
      "{'val_loss': [0.6883782148361206, 0.514510452747345, 0.38851049542427063, 0.3415900766849518, 0.3438208997249603, 0.33874839544296265, 0.33381059765815735, 0.36197197437286377, 0.36360129714012146, 0.38137736916542053], 'val_accuracy': [0.625, 0.7630000114440918, 0.8209999799728394, 0.8379999995231628, 0.8389999866485596, 0.847000002861023, 0.8500000238418579, 0.8370000123977661, 0.8429999947547913, 0.8450000286102295], 'loss': [0.6919517119725546, 0.6502329731980959, 0.450176107386748, 0.3299241177737713, 0.2815990683933099, 0.25270014194150764, 0.23569412839909396, 0.2190312792857488, 0.20937715843319893, 0.20120777624348798], 'accuracy': [0.52933335, 0.68420833, 0.810875, 0.8680417, 0.89375, 0.9061667, 0.91541666, 0.92508334, 0.92854166, 0.93258333]}\n",
      "['Solarize_Light2', '_classic_test_patch', 'bmh', 'classic', 'dark_background', 'fast', 'fivethirtyeight', 'ggplot', 'grayscale', 'seaborn', 'seaborn-bright', 'seaborn-colorblind', 'seaborn-dark', 'seaborn-dark-palette', 'seaborn-darkgrid', 'seaborn-deep', 'seaborn-muted', 'seaborn-notebook', 'seaborn-paper', 'seaborn-pastel', 'seaborn-poster', 'seaborn-talk', 'seaborn-ticks', 'seaborn-white', 'seaborn-whitegrid', 'tableau-colorblind10']\n"
     ]
    },
    {
     "data": {
      "image/png": "[encoded data removed]",
      "text/plain": [
       "<Figure size 432x288 with 2 Axes>"
      ]
     },
     "metadata": {},
     "output_type": "display_data"
    }
   ],
   "source": [
    "import matplotlib.pyplot as plt\n",
    "from matplotlib import style\n",
    "\n",
    "print(history.history)\n",
    "print(style.available)\n",
    "\n",
    "style.use('ggplot')\n",
    "\n",
    "y = [x for x in range(10)]\n",
    "\n",
    "plt.subplot(1,2,1)\n",
    "plt.plot(y, history.history['accuracy'], label='accuracy')\n",
    "plt.plot(y, history.history['val_accuracy'], label='val_accuracy')\n",
    "plt.xlabel('values')\n",
    "plt.ylabel('epochs')\n",
    "plt.legend(loc=0)\n",
    "\n",
    "\n",
    "plt.subplot(1,2,2)\n",
    "plt.plot(y, history.history['loss'], label='loss')\n",
    "plt.plot(y, history.history['val_loss'], label='val_loss')\n",
    "plt.xlabel('values')\n",
    "plt.ylabel('epochs')\n",
    "plt.legend(loc=0)\n",
    "\n",
    "\n",
    "plt.show()"
   ]
  },
  {
   "cell_type": "code",
   "execution_count": 226,
   "metadata": {},
   "outputs": [
    {
     "name": "stdout",
     "output_type": "stream",
     "text": [
      "25000/25000 [==============================] - 6s 240us/step\n",
      "0.8364800214767456\n"
     ]
    }
   ],
   "source": [
    "_,acc = model.evaluate(xTest, yTest, batch_size=batch_size)\n",
    "print(acc)"
   ]
  },
  {
   "cell_type": "code",
   "execution_count": 225,
   "metadata": {},
   "outputs": [],
   "source": [
    "model.save('./myModel-2.h5')"
   ]
  },
  {
   "cell_type": "code",
   "execution_count": 1,
   "metadata": {},
   "outputs": [
    {
     "name": "stderr",
     "output_type": "stream",
     "text": [
      "Using TensorFlow backend.\n"
     ]
    },
    {
     "name": "stdout",
     "output_type": "stream",
     "text": [
      "Model: \"sequential_1\"\n",
      "_________________________________________________________________\n",
      "Layer (type)                 Output Shape              Param #   \n",
      "=================================================================\n",
      "embedding_1 (Embedding)      (None, 500, 32)           160000    \n",
      "_________________________________________________________________\n",
      "lstm_1 (LSTM)                (None, 100)               53200     \n",
      "_________________________________________________________________\n",
      "dense_1 (Dense)              (None, 1)                 101       \n",
      "=================================================================\n",
      "Total params: 213,301\n",
      "Trainable params: 213,301\n",
      "Non-trainable params: 0\n",
      "_________________________________________________________________\n",
      "None\n"
     ]
    },
    {
     "name": "stderr",
     "output_type": "stream",
     "text": [
      "C:\\Users\\aryan\\anaconda3\\envs\\tf-gpu\\lib\\site-packages\\tensorflow_core\\python\\framework\\indexed_slices.py:433: UserWarning: Converting sparse IndexedSlices to a dense Tensor of unknown shape. This may consume a large amount of memory.\n",
      "  \"Converting sparse IndexedSlices to a dense Tensor of unknown shape. \"\n"
     ]
    },
    {
     "name": "stdout",
     "output_type": "stream",
     "text": [
      "Epoch 1/3\n",
      "25000/25000 [==============================] - 189s 8ms/step - loss: 0.4901 - accuracy: 0.7558\n",
      "Epoch 2/3\n",
      "25000/25000 [==============================] - 205s 8ms/step - loss: 0.3121 - accuracy: 0.8751\n",
      "Epoch 3/3\n",
      "25000/25000 [==============================] - 204s 8ms/step - loss: 0.3277 - accuracy: 0.8600\n",
      "Accuracy: 86.15%\n"
     ]
    }
   ],
   "source": [
    "import numpy\n",
    "from keras.datasets import imdb\n",
    "from keras.models import Sequential\n",
    "from keras.layers import Dense\n",
    "from keras.layers import LSTM\n",
    "from keras.layers.embeddings import Embedding\n",
    "from keras.preprocessing import sequence\n",
    "# fix random seed for reproducibility\n",
    "numpy.random.seed(7)\n",
    "# load the dataset but only keep the top n words, zero the rest\n",
    "top_words = 5000\n",
    "(X_train, y_train), (X_test, y_test) = imdb.load_data(num_words=top_words)\n",
    "# truncate and pad input sequences\n",
    "max_review_length = 500\n",
    "X_train = sequence.pad_sequences(X_train, maxlen=max_review_length)\n",
    "X_test = sequence.pad_sequences(X_test, maxlen=max_review_length)\n",
    "# create the model\n",
    "embedding_vecor_length = 32\n",
    "model = Sequential()\n",
    "model.add(Embedding(top_words, embedding_vecor_length, input_length=max_review_length))\n",
    "model.add(LSTM(100))\n",
    "model.add(Dense(1, activation='sigmoid'))\n",
    "model.compile(loss='binary_crossentropy', optimizer='adam', metrics=['accuracy'])\n",
    "print(model.summary())\n",
    "model.fit(X_train, y_train, epochs=3, batch_size=64)\n",
    "# Final evaluation of the model\n",
    "scores = model.evaluate(X_test, y_test, verbose=0)\n",
    "print(\"Accuracy: %.2f%%\" % (scores[1]*100))"
   ]
  },
  {
   "cell_type": "code",
   "execution_count": 2,
   "metadata": {},
   "outputs": [],
   "source": [
    "model.save('./myModel-1.h5')"
   ]
  }
 ],
 "metadata": {
  "kernelspec": {
   "display_name": "TensorFlow-GPU-2.1",
   "language": "python",
   "name": "tf-gpu"
  },
  "language_info": {
   "codemirror_mode": {
    "name": "ipython",
    "version": 3
   },
   "file_extension": ".py",
   "mimetype": "text/x-python",
   "name": "python",
   "nbconvert_exporter": "python",
   "pygments_lexer": "ipython3",
   "version": "3.7.7"
  }
 },
 "nbformat": 4,
 "nbformat_minor": 4
}
